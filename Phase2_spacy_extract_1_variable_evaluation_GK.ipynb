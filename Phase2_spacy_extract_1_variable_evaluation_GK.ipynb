{
  "nbformat": 4,
  "nbformat_minor": 0,
  "metadata": {
    "colab": {
      "name": "Phase2_spacy_extract_1_variable_evaluation_GK.ipynb",
      "provenance": [],
      "collapsed_sections": [],
      "toc_visible": true
    },
    "kernelspec": {
      "name": "python3",
      "display_name": "Python 3"
    },
    "language_info": {
      "name": "python"
    },
    "accelerator": "GPU"
  },
  "cells": [
    {
      "cell_type": "markdown",
      "metadata": {
        "id": "GSmAK8KjMFra"
      },
      "source": [
        "## Introduction\n",
        "\n",
        "In this notebook, I have used spaCy annotate raw text from the PDFs.\n",
        "spaCy is an open source library for NLP with components for NER and dependency parsing which will be useful for the use case."
      ]
    },
    {
      "cell_type": "code",
      "metadata": {
        "colab": {
          "base_uri": "https://localhost:8080/"
        },
        "id": "7S8vwmTPIG4-",
        "outputId": "44c4acdb-9991-4ea0-a46a-f977556abae3"
      },
      "source": [
        "#mount drive\n",
        "from google.colab import drive\n",
        "drive.mount('/content/drive')"
      ],
      "execution_count": null,
      "outputs": [
        {
          "output_type": "stream",
          "name": "stdout",
          "text": [
            "Drive already mounted at /content/drive; to attempt to forcibly remount, call drive.mount(\"/content/drive\", force_remount=True).\n"
          ]
        }
      ]
    },
    {
      "cell_type": "markdown",
      "metadata": {
        "id": "43hMrGrWGcu_"
      },
      "source": [
        "## 1 .Install libraries\n",
        "\n",
        "Install spaCy. By default, spaCy 2.2.4 is installed on colab."
      ]
    },
    {
      "cell_type": "code",
      "metadata": {
        "colab": {
          "base_uri": "https://localhost:8080/"
        },
        "id": "jY41cKCSLIng",
        "outputId": "ee52239b-6841-46b0-cb1e-dedc2b51061d"
      },
      "source": [
        "!pip install spacy\n"
      ],
      "execution_count": null,
      "outputs": [
        {
          "output_type": "stream",
          "name": "stdout",
          "text": [
            "Requirement already satisfied: spacy in /usr/local/lib/python3.7/dist-packages (2.2.4)\n",
            "Requirement already satisfied: srsly<1.1.0,>=1.0.2 in /usr/local/lib/python3.7/dist-packages (from spacy) (1.0.5)\n",
            "Requirement already satisfied: murmurhash<1.1.0,>=0.28.0 in /usr/local/lib/python3.7/dist-packages (from spacy) (1.0.5)\n",
            "Requirement already satisfied: requests<3.0.0,>=2.13.0 in /usr/local/lib/python3.7/dist-packages (from spacy) (2.23.0)\n",
            "Requirement already satisfied: setuptools in /usr/local/lib/python3.7/dist-packages (from spacy) (57.4.0)\n",
            "Requirement already satisfied: blis<0.5.0,>=0.4.0 in /usr/local/lib/python3.7/dist-packages (from spacy) (0.4.1)\n",
            "Requirement already satisfied: tqdm<5.0.0,>=4.38.0 in /usr/local/lib/python3.7/dist-packages (from spacy) (4.62.0)\n",
            "Requirement already satisfied: cymem<2.1.0,>=2.0.2 in /usr/local/lib/python3.7/dist-packages (from spacy) (2.0.5)\n",
            "Requirement already satisfied: wasabi<1.1.0,>=0.4.0 in /usr/local/lib/python3.7/dist-packages (from spacy) (0.8.2)\n",
            "Requirement already satisfied: thinc==7.4.0 in /usr/local/lib/python3.7/dist-packages (from spacy) (7.4.0)\n",
            "Requirement already satisfied: catalogue<1.1.0,>=0.0.7 in /usr/local/lib/python3.7/dist-packages (from spacy) (1.0.0)\n",
            "Requirement already satisfied: plac<1.2.0,>=0.9.6 in /usr/local/lib/python3.7/dist-packages (from spacy) (1.1.3)\n",
            "Requirement already satisfied: numpy>=1.15.0 in /usr/local/lib/python3.7/dist-packages (from spacy) (1.19.5)\n",
            "Requirement already satisfied: preshed<3.1.0,>=3.0.2 in /usr/local/lib/python3.7/dist-packages (from spacy) (3.0.5)\n",
            "Requirement already satisfied: importlib-metadata>=0.20 in /usr/local/lib/python3.7/dist-packages (from catalogue<1.1.0,>=0.0.7->spacy) (4.6.4)\n",
            "Requirement already satisfied: zipp>=0.5 in /usr/local/lib/python3.7/dist-packages (from importlib-metadata>=0.20->catalogue<1.1.0,>=0.0.7->spacy) (3.5.0)\n",
            "Requirement already satisfied: typing-extensions>=3.6.4 in /usr/local/lib/python3.7/dist-packages (from importlib-metadata>=0.20->catalogue<1.1.0,>=0.0.7->spacy) (3.7.4.3)\n",
            "Requirement already satisfied: idna<3,>=2.5 in /usr/local/lib/python3.7/dist-packages (from requests<3.0.0,>=2.13.0->spacy) (2.10)\n",
            "Requirement already satisfied: chardet<4,>=3.0.2 in /usr/local/lib/python3.7/dist-packages (from requests<3.0.0,>=2.13.0->spacy) (3.0.4)\n",
            "Requirement already satisfied: certifi>=2017.4.17 in /usr/local/lib/python3.7/dist-packages (from requests<3.0.0,>=2.13.0->spacy) (2021.5.30)\n",
            "Requirement already satisfied: urllib3!=1.25.0,!=1.25.1,<1.26,>=1.21.1 in /usr/local/lib/python3.7/dist-packages (from requests<3.0.0,>=2.13.0->spacy) (1.24.3)\n"
          ]
        }
      ]
    },
    {
      "cell_type": "code",
      "metadata": {
        "colab": {
          "base_uri": "https://localhost:8080/"
        },
        "id": "KnwsXUlxhcoi",
        "outputId": "830501fb-e6ec-44fd-b74e-15934827bbeb"
      },
      "source": [
        "!python -m spacy info"
      ],
      "execution_count": null,
      "outputs": [
        {
          "output_type": "stream",
          "name": "stdout",
          "text": [
            "\u001b[1m\n",
            "============================== Info about spaCy ==============================\u001b[0m\n",
            "\n",
            "spaCy version    2.2.4                         \n",
            "Location         /usr/local/lib/python3.7/dist-packages/spacy\n",
            "Platform         Linux-5.4.104+-x86_64-with-Ubuntu-18.04-bionic\n",
            "Python version   3.7.11                        \n",
            "Models           en                            \n",
            "\n"
          ]
        }
      ]
    },
    {
      "cell_type": "code",
      "metadata": {
        "id": "qIwG1obXME3n"
      },
      "source": [
        "#imports\n",
        "import os \n",
        "import spacy\n",
        "import random\n",
        "from spacy.tokens import Span\n",
        "import pandas as pd\n",
        "from pandas import DataFrame\n",
        "import json\n",
        "from spacy.matcher import Matcher, PhraseMatcher\n",
        "from spacy.lang.en import English\n",
        "import re"
      ],
      "execution_count": null,
      "outputs": []
    },
    {
      "cell_type": "code",
      "metadata": {
        "colab": {
          "base_uri": "https://localhost:8080/",
          "height": 35
        },
        "id": "4csxESSCMNK-",
        "outputId": "560f4d95-5c4f-43a1-fd88-d1a12353c1dd"
      },
      "source": [
        "\n",
        "#os\n",
        "base_path = '/content/drive/MyDrive/week6'\n",
        "\n",
        "save_path = '/content/drive/MyDrive/week6'\n",
        "os.chdir(base_path)\n",
        "os.getcwd()"
      ],
      "execution_count": null,
      "outputs": [
        {
          "output_type": "execute_result",
          "data": {
            "application/vnd.google.colaboratory.intrinsic+json": {
              "type": "string"
            },
            "text/plain": [
              "'/content/drive/MyDrive/week6'"
            ]
          },
          "metadata": {},
          "execution_count": 11
        }
      ]
    },
    {
      "cell_type": "markdown",
      "metadata": {
        "id": "0LOG2yrdW2QR"
      },
      "source": [
        "## 2 .Getting the variables to extract as user input \n",
        "\n",
        "The raw input text extracted from PDFs is stored in base_path. \n",
        "\n",
        "Here we get the text that has to be extracted ( found ) in the minutebook text  from the user. \n",
        "The goal is to eventually get a list of variables that have to be extracted from the given text.\n",
        "\n",
        "Currently the ner model is coded to extract one varable only but can be extended to extract multiple variables.\n",
        "![variables.PNG](data:image/png;base64,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)\n",
        "\n",
        "\n"
      ]
    },
    {
      "cell_type": "code",
      "metadata": {
        "colab": {
          "base_uri": "https://localhost:8080/"
        },
        "id": "Y833bv3HYqTg",
        "outputId": "0c3ce92d-a62b-4e2c-8e23-6857f6f9075c"
      },
      "source": [
        "# creating an empty list\n",
        "lst = []\n",
        " \n",
        "# number of elements as input\n",
        "n = int(input(\"Enter number of variables to extract: \"))\n",
        " \n",
        "# iterating till the range\n",
        "for i in range(0, n):\n",
        "    ele = str(input(\"Enter the variable text ( entity) that you wish to extract from the document\"))\n",
        " \n",
        "    lst.append(ele) # adding the element\n",
        "     \n",
        "print(lst)"
      ],
      "execution_count": null,
      "outputs": [
        {
          "output_type": "stream",
          "name": "stdout",
          "text": [
            "Enter number of variables to extract: 1\n",
            "Enter the variable text ( entity) that you wish to extract from the documentCorporation\n",
            "['Corporation']\n"
          ]
        }
      ]
    },
    {
      "cell_type": "markdown",
      "metadata": {
        "id": "QrlKKosMP7GF"
      },
      "source": [
        "## 3 .Ingest input text extracted using fitz (PyMuPDF)"
      ]
    },
    {
      "cell_type": "code",
      "metadata": {
        "id": "gM5CINmPF0k_"
      },
      "source": [
        "ENTITIES = lst \n",
        "with open(os.path.join(base_path, \"pdf5.pdf_fitz.txt\"), encoding=\"utf8\") as f:#smaller file \n",
        "  TEXTS = f.readlines()\n"
      ],
      "execution_count": null,
      "outputs": []
    },
    {
      "cell_type": "markdown",
      "metadata": {
        "id": "NH2uX4LbQJMk"
      },
      "source": [
        "## 4 .Load pre trained spaCy model \n",
        "We have used the small model. spaCy comes with various models in many languages. "
      ]
    },
    {
      "cell_type": "code",
      "metadata": {
        "id": "0ypipQffrmR2"
      },
      "source": [
        "nlp = spacy.load(\"en_core_web_sm\")\n",
        "\n"
      ],
      "execution_count": null,
      "outputs": []
    },
    {
      "cell_type": "markdown",
      "metadata": {
        "id": "m01ey2etRvTL"
      },
      "source": [
        "## 4 .Add patterns to PhraseMatcher "
      ]
    },
    {
      "cell_type": "code",
      "metadata": {
        "id": "nEIKFsyrnSR0"
      },
      "source": [
        "matcher = Matcher(nlp.vocab)\n",
        "pattern = []\n",
        "for i in ENTITIES:\n",
        "  pattern.append({\"LOWER\": i})\n",
        "  matcher.add(i, None, pattern)\n",
        "\n"
      ],
      "execution_count": null,
      "outputs": []
    },
    {
      "cell_type": "code",
      "metadata": {
        "id": "7TkjG0JzcE55"
      },
      "source": [
        "from spacy.matcher import PhraseMatcher\n",
        "pattern_matcher = PhraseMatcher(nlp.vocab, attr='LOWER')\n",
        "patterns = [nlp(text) for text in ENTITIES]\n",
        "pattern_matcher.add(\"TerminologyList\", patterns)"
      ],
      "execution_count": null,
      "outputs": []
    },
    {
      "cell_type": "code",
      "metadata": {
        "colab": {
          "base_uri": "https://localhost:8080/"
        },
        "id": "H3X50okOa4gT",
        "outputId": "f8b219b7-fdeb-43bf-cfb8-2808182c6301"
      },
      "source": [
        "pattern_matcher"
      ],
      "execution_count": null,
      "outputs": [
        {
          "output_type": "execute_result",
          "data": {
            "text/plain": [
              "<spacy.matcher.phrasematcher.PhraseMatcher at 0x7fddae8f9350>"
            ]
          },
          "metadata": {},
          "execution_count": 17
        }
      ]
    },
    {
      "cell_type": "markdown",
      "metadata": {
        "id": "OgnUDc9pSOi7"
      },
      "source": [
        "## 5 .List to store training data generated by the model "
      ]
    },
    {
      "cell_type": "code",
      "metadata": {
        "id": "-LOFROnIr0TS"
      },
      "source": [
        "TRAINING_DATA = []\n",
        "TRAINING_DATA_PATTERN = []"
      ],
      "execution_count": null,
      "outputs": []
    },
    {
      "cell_type": "markdown",
      "metadata": {
        "id": "eOexuwGscye3"
      },
      "source": [
        "## 6 . Create a document from the text to search and use the PhraseMatcher to find where the terms occur in the text."
      ]
    },
    {
      "cell_type": "code",
      "metadata": {
        "id": "xghQJrtfcwcA"
      },
      "source": [
        "for doc in nlp.pipe(TEXTS):\n",
        "  # Match on the doc and create a list of matched spans\n",
        "  spans = [doc[start:end] for match_id, start, end in pattern_matcher(doc)]\n",
        "  # Get (start character, end character, label) tuples of matches\n",
        "  entities = [(span.start_char, span.end_char, \"CURENT\") for span in spans]\n",
        "  # Format the matches as a (doc.text, entities) tuple\n",
        "  training_example = (doc.text, {\"entities\": entities})\n",
        "  # Append the example to the training data\n",
        "  TRAINING_DATA_PATTERN.append(training_example)"
      ],
      "execution_count": null,
      "outputs": []
    },
    {
      "cell_type": "markdown",
      "metadata": {
        "id": "Eme6KNsHTjdK"
      },
      "source": [
        "## 7 .Annotated training data from text extracted using fitz  "
      ]
    },
    {
      "cell_type": "code",
      "metadata": {
        "id": "xlQD9Mn0sZYD",
        "colab": {
          "base_uri": "https://localhost:8080/"
        },
        "outputId": "6fde1568-cef6-47b7-c3e9-b919b8612e1f"
      },
      "source": [
        "\n",
        "print(*TRAINING_DATA_PATTERN[100:200], sep=\"\\n\")"
      ],
      "execution_count": null,
      "outputs": [
        {
          "output_type": "stream",
          "name": "stdout",
          "text": [
            "('Does Chairman have casting vote?\\n', {'entities': []})\n",
            "('N/y\\n', {'entities': []})\n",
            "('Address\\n', {'entities': []})\n",
            "('Name\\n', {'entities': []})\n",
            "('Cdn Res.\\n', {'entities': []})\n",
            "('Elected\\n', {'entities': []})\n",
            "('Patrick Trotter\\n', {'entities': []})\n",
            "('yes\\n', {'entities': []})\n",
            "('Nov 4 13\\n', {'entities': []})\n",
            "('501 River Oaks Drive\\n', {'entities': []})\n",
            "('Sheboygan Falls, Wisconsin U.S.A.\\n', {'entities': []})\n",
            "('50385-1415\\n', {'entities': []})\n",
            "('Nov 4 13\\n', {'entities': []})\n",
            "('501 River Oaks Drive\\n', {'entities': []})\n",
            "('Sheboygan Falls, Wisconsin U.S.A.\\n', {'entities': []})\n",
            "('s0385-1415\\n', {'entities': []})\n",
            "('Margo Trotter\\n', {'entities': []})\n",
            "('yes\\n', {'entities': []})\n",
            "('Heidi Fretz-Bongers\\n', {'entities': []})\n",
            "('yes\\n', {'entities': []})\n",
            "('Nov 4 13\\n', {'entities': []})\n",
            "('87 Farmhouse Road\\n', {'entities': []})\n",
            "('London, Ontario NsY 5M4\\n', {'entities': []})\n",
            "('yes\\n', {'entities': []})\n",
            "('Nov 4 13\\n', {'entities': []})\n",
            "('56 Victor Ave.\\n', {'entities': []})\n",
            "('Toronto, Ontario M4K 1AB\\n', {'entities': []})\n",
            "('Erin Ackles\\n', {'entities': []})\n",
            "('DIRECTORS\\n', {'entities': []})\n",
            "('Office\\n', {'entities': []})\n",
            "('nted\\n', {'entities': []})\n",
            "('Address\\n', {'entities': []})\n",
            "('OFFICERS\\n', {'entities': []})\n",
            "('ACCOUNTING INFORMATION\\n', {'entities': []})\n",
            "('Name\\n', {'entities': []})\n",
            "('\\x0cMargo Trotter\\n', {'entities': []})\n",
            "('President\\n', {'entities': []})\n",
            "('Nov 4 13\\n', {'entities': []})\n",
            "('501 River Oaks Drive\\n', {'entities': []})\n",
            "('Sheboygan Falls, Wisconsin U.S.A.\\n', {'entities': []})\n",
            "('50385-1415\\n', {'entities': []})\n",
            "('Patrick Trotter\\n', {'entities': []})\n",
            "('Chief Executive\\n', {'entities': []})\n",
            "('Officer\\n', {'entities': []})\n",
            "('Nov 4 13\\n', {'entities': []})\n",
            "('501 River Oaks Drive\\n', {'entities': []})\n",
            "('Sheboygan Falls, Wisconsin U.S.A.\\n', {'entities': []})\n",
            "('50385-1415\\n', {'entities': []})\n",
            "('Margo Trotter\\n', {'entities': []})\n",
            "('Chief Strategy\\n', {'entities': []})\n",
            "('Officer\\n', {'entities': []})\n",
            "('Nov 4 13\\n', {'entities': []})\n",
            "('501 River Oaks Drive\\n', {'entities': []})\n",
            "('Sheboygan Falls, Wisconsin U.S.A.\\n', {'entities': []})\n",
            "('50385-1415\\n', {'entities': []})\n",
            "('Class of Shares\\n', {'entities': []})\n",
            "('Description\\n', {'entities': []})\n",
            "('Class A Special\\n', {'entities': []})\n",
            "('An unlimited number of non-voting Class A Special shares;\\n', {'entities': []})\n",
            "('Class B Special\\n', {'entities': []})\n",
            "('An unlimited number of non-voting Class B Special shares;\\n', {'entities': []})\n",
            "('Class C SpecialVoting Only\\n', {'entities': []})\n",
            "('An unlimited number of voting Class C SpecialVoting Only\\n', {'entities': []})\n",
            "('shares;\\n', {'entities': []})\n",
            "('Class D SpecialVoting Only\\n', {'entities': []})\n",
            "('An unlimited number of voting Class D Special Voting Only\\n', {'entities': []})\n",
            "('shares;\\n', {'entities': []})\n",
            "('Class A Common\\n', {'entities': []})\n",
            "('An unlimited number of voting Class A Common shares\\n', {'entities': []})\n",
            "('AUTHORIZED CAPITAL\\n', {'entities': []})\n",
            "('Quorum:\\n', {'entities': []})\n",
            "('Does Chairman have casting vote?\\n', {'entities': []})\n",
            "('N/v\\n', {'entities': []})\n",
            "('Name of Shareholder\\n', {'entities': []})\n",
            "('No. of Shares\\n', {'entities': []})\n",
            "('1,000 CLASS A COMMON SHARES issued as follqws:\\n', {'entities': []})\n",
            "('Erin Ackles\\n', {'entities': []})\n",
            "('250\\n', {'entities': []})\n",
            "('Heidi Fretz-Bonqers\\n', {'entities': []})\n",
            "('250\\n', {'entities': []})\n",
            "('Trotter Wellness Ltd.\\n', {'entities': []})\n",
            "('500\\n', {'entities': []})\n",
            "('SHARE HOLDERS/ISSUED CAPITAL\\n', {'entities': []})\n",
            "('Name\\n', {'entities': []})\n",
            "('Start Date\\n', {'entities': []})\n",
            "('Member Type\\n', {'entities': []})\n",
            "('Address\\n', {'entities': []})\n",
            "('MEMBERS\\n', {'entities': []})\n",
            "('Category (& Remarks/Details)\\n', {'entities': []})\n",
            "('Name\\n', {'entities': []})\n",
            "('Jurisdiction\\n', {'entities': []})\n",
            "('Expirv\\n', {'entities': []})\n",
            "('REGISTRATIONS & FILINGS\\n', {'entities': []})\n",
            "('Legend: C = Current\\n', {'entities': []})\n",
            "('l= lncorporator\\n', {'entities': []})\n",
            "('O = Officer\\n', {'entities': []})\n",
            "('CM = Committee Member\\n', {'entities': []})\n",
            "('x = Former\\n', {'entities': []})\n",
            "('D = Director\\n', {'entities': []})\n",
            "('S = Shareholder\\n', {'entities': []})\n"
          ]
        }
      ]
    },
    {
      "cell_type": "markdown",
      "metadata": {
        "id": "RpuNEpYymbAy"
      },
      "source": [
        "## 8 .Ingest input text extracted using PuPDF2 "
      ]
    },
    {
      "cell_type": "code",
      "metadata": {
        "id": "O6aWQJPimtxp"
      },
      "source": [
        "with open(os.path.join(base_path, \"pdf5_pypdf2.txt\"), encoding=\"utf8\") as f:#smaller file \n",
        "  TEXTS = f.readlines()"
      ],
      "execution_count": null,
      "outputs": []
    },
    {
      "cell_type": "code",
      "metadata": {
        "id": "l3h5scTwm2C5"
      },
      "source": [
        "for doc in nlp.pipe(TEXTS):\n",
        "  # Phrase Match on the doc and create a list of matched spans\n",
        "  spans = [doc[start:end] for match_id, start, end in pattern_matcher(doc)]\n",
        "  # Get (start character, end character, label) tuples of matches\n",
        "  entities = [(span.start_char, span.end_char, \"CURENT\") for span in spans]\n",
        "  # Format the matches as a (doc.text, entities) tuple\n",
        "  training_example = (doc.text, {\"entities\": entities})\n",
        "  # Append the example to the training data\n",
        "  TRAINING_DATA_PATTERN.append(training_example)"
      ],
      "execution_count": null,
      "outputs": []
    },
    {
      "cell_type": "markdown",
      "metadata": {
        "id": "PvzJEliDUEYR"
      },
      "source": [
        "## 9 .Annotated data generated from text extracted using PyPDF2 "
      ]
    },
    {
      "cell_type": "code",
      "metadata": {
        "colab": {
          "base_uri": "https://localhost:8080/"
        },
        "id": "VqBkOFGnnDlS",
        "outputId": "e6fd36ab-cf67-4921-8d8a-5d81a6bc9408"
      },
      "source": [
        "\n",
        "print(*TRAINING_DATA_PATTERN[200:300], sep=\"\\n\")"
      ],
      "execution_count": null,
      "outputs": [
        {
          "output_type": "stream",
          "name": "stdout",
          "text": [
            "('EC = Emplovee/Consultant\\n', {'entities': []})\n",
            "('M = Member\\n', {'entities': []})\n",
            "('Al = Accredited lnvestor\\n', {'entities': []})\n",
            "('PRINCIPALS\\n', {'entities': []})\n",
            "('\\x0cName\\n', {'entities': []})\n",
            "('D\\n', {'entities': []})\n",
            "('o\\n', {'entities': []})\n",
            "('S\\n', {'entities': []})\n",
            "('c\\n', {'entities': []})\n",
            "('M\\n', {'entities': []})\n",
            "('M\\n', {'entities': []})\n",
            "('EC\\n', {'entities': []})\n",
            "('AI\\n', {'entities': []})\n",
            "('Contact\\n', {'entities': []})\n",
            "('Ackles, Erin\\n', {'entities': []})\n",
            "('c\\n', {'entities': []})\n",
            "('c\\n', {'entities': []})\n",
            "('c\\n', {'entities': []})\n",
            "('Fretz-Bongers, Heidi\\n', {'entities': []})\n",
            "('c\\n', {'entities': []})\n",
            "('c\\n', {'entities': []})\n",
            "('c\\n', {'entities': []})\n",
            "('Trotter Wellness Ltd.\\n', {'entities': []})\n",
            "('c\\n', {'entities': []})\n",
            "('Trotter, Marqo\\n', {'entities': []})\n",
            "('c\\n', {'entities': []})\n",
            "('c\\n', {'entities': []})\n",
            "('c\\n', {'entities': []})\n",
            "('Trotter, Patrick\\n', {'entities': []})\n",
            "('c\\n', {'entities': []})\n",
            "('c\\n', {'entities': []})\n",
            "('c\\n', {'entities': []})\n",
            "('Current Principals - Additional lnformation\\n', {'entities': []})\n",
            "('Erin Ackles\\n', {'entities': []})\n",
            "('Residence:\\n', {'entities': []})\n",
            "('Misc.:\\n', {'entities': []})\n",
            "('56 Victor Ave., Toronto, Ontario M4K 1A8\\n', {'entities': []})\n",
            "('Female / AVP, TD Canada Trust / resident / Erin\\n', {'entities': []})\n",
            "('Heidi Fretz-Bonqers\\n', {'entities': []})\n",
            "('Residence:\\n', {'entities': []})\n",
            "('Misc.:\\n', {'entities': []})\n",
            "('87 Farmhouse Road, London, Ontario NsY 5M4\\n', {'entities': []})\n",
            "('Female / resident\\n', {'entities': []})\n",
            "('Trotter Wellness Ltd.\\n', {'entities': []})\n",
            "('Signer Name(s):\\n', {'entities': []})\n",
            "('Residence:\\n', {'entities': []})\n",
            "('STATES OF AMERICA 530\\n', {'entities': []})\n",
            "('Misc.:\\n', {'entities': []})\n",
            "('Margo Trotter\\n', {'entities': []})\n",
            "('2124Kohler Memorial Drive, Suite 300, Sheboygan, Wisconsin, UNITED\\n', {'entities': []})\n",
            "('Corporation / resident\\n', {'entities': [(0, 11, 'CURENT')]})\n",
            "('Marqo Trotter\\n', {'entities': []})\n",
            "('Residence:\\n', {'entities': []})\n",
            "('Misc.:\\n', {'entities': []})\n",
            "('501 River Oaks Drive, Sheboygan Falls, Wisconsin, U.S.A. 50385-1415\\n', {'entities': []})\n",
            "('Female / resident / American\\n', {'entities': []})\n",
            "('Patrick Trotter\\n', {'entities': []})\n",
            "('Residence:\\n', {'entities': []})\n",
            "('Misc.:\\n', {'entities': []})\n",
            "('501 River Oaks Drive, Sheboygan Falls, Wisconsin, U.S.A. 50385-1415\\n', {'entities': []})\n",
            "('Male / resident\\n', {'entities': []})\n",
            "('\\x0co\\n', {'entities': []})\n",
            "('UJ\\n', {'entities': []})\n",
            "('(J\\n', {'entities': []})\n",
            "('E\\n', {'entities': []})\n",
            "('ARTICLES\\n', {'entities': []})\n",
            "('\\x0cI\\n', {'entities': []})\n",
            "('For Ministry Use OnlY\\n', {'entities': []})\n",
            "('A fusage exchrsif du minid6re\\n', {'entities': []})\n",
            "('fL- \\n', {'entities': []})\n",
            "('f?r.Gya \\n', {'entities': []})\n",
            "(\"f5il'5\\n\", {'entities': []})\n",
            "(',#6rta \\n', {'entities': []})\n",
            "('tcEssxG:r\"urrr\\n', {'entities': []})\n",
            "('CEHTIFICATE CERTIFICAT\\n', {'entities': []})\n",
            "(\"ftrf irccttttyurlAil r0cl.. C*tc,flrqrh'ilrllfif'\\n\", {'entities': []})\n",
            "('n rtlrcthP on \\n', {'entities': []})\n",
            "(\"rtlfltcn vlgt'Glrb\\n\", {'entities': []})\n",
            "('NOVEMBER 2 5 NoVEMBRE 2013\\n', {'entities': []})\n",
            "('r(1\\n', {'entities': []})\n",
            "('\"\"*rr\"ffi [Slfitr.\"\"-. e] 6lr\\n', {'entities': []})\n",
            "('Ontario Corporation Number\\n', {'entities': [(8, 19, 'CURENT')]})\n",
            "('Numero d6 la soci6t6 en Ontario\\n', {'entities': []})\n",
            "('2394556\\n', {'entities': []})\n",
            "('Eudnil\\n', {'entities': []})\n",
            "('ARTICLES OF AMENDMENT\\n', {'entities': []})\n",
            "('S TATUTS DE MODIFICATION\\n', {'entities': []})\n",
            "('1 . \\n', {'entities': []})\n",
            "('The name of the corporation is: (Set out in BLOCK CAPITAL LETTERS)\\n', {'entities': [(16, 27, 'CURENT')]})\n",
            "('D6nomination sociale actuelle de la soci6t6 (6crire en LETTRES MAJUSCULES SEULEMENI)\\n', {'entities': []})\n",
            "('Form 3\\n', {'entities': []})\n",
            "(\"Eusr'rross\\n\", {'entities': []})\n",
            "('Corporatlons\\n', {'entities': []})\n",
            "('Act\\n', {'entities': []})\n",
            "('Formu16 3\\n', {'entities': []})\n",
            "('Loi sur bs\\n', {'entities': []})\n",
            "('socrdtds par\\n', {'entities': []})\n",
            "('aclbns\\n', {'entities': []})\n",
            "('The name of the corporation is changed to (if applicable ): (Set out in BLOCK CAPITAL LETTERS)\\n', {'entities': [(16, 27, 'CURENT')]})\n",
            "(\"Nouvelle denomination sociale de la soci6t6 (s'il y a lieu) (6crire en LETTRES MAJUSCULES SEULEIVENT)\\n\", {'entities': []})\n"
          ]
        }
      ]
    },
    {
      "cell_type": "markdown",
      "metadata": {
        "id": "cBRb94roUcCQ"
      },
      "source": [
        "## 10 .Using the sample minutebook to extract phrases "
      ]
    },
    {
      "cell_type": "code",
      "metadata": {
        "id": "dhm1NXGIpoV_"
      },
      "source": [
        "with open(os.path.join(base_path, \"sample-minutebook.pdf.txt\"), encoding=\"utf8\") as f:#smaller file \n",
        "  TEXTS = f.readlines()"
      ],
      "execution_count": null,
      "outputs": []
    },
    {
      "cell_type": "code",
      "metadata": {
        "id": "Jqz0_AyCr-VO"
      },
      "source": [
        "for doc in nlp.pipe(TEXTS):\n",
        "  # Phrase Match on the doc and create a list of matched spans\n",
        "  spans = [doc[start:end] for match_id, start, end in pattern_matcher(doc)]\n",
        "  # Get (start character, end character, label) tuples of matches\n",
        "  entities = [(span.start_char, span.end_char, \"CURENT\") for span in spans]\n",
        "  # Format the matches as a (doc.text, entities) tuple\n",
        "  training_example = (doc.text, {\"entities\": entities})\n",
        "  # Append the example to the training data\n",
        "  TRAINING_DATA_PATTERN.append(training_example)"
      ],
      "execution_count": null,
      "outputs": []
    },
    {
      "cell_type": "code",
      "metadata": {
        "colab": {
          "base_uri": "https://localhost:8080/"
        },
        "id": "72XpaxFuscHF",
        "outputId": "85bcbb93-0604-4206-d839-d02349a05a18"
      },
      "source": [
        "print(*TRAINING_DATA_PATTERN[0:100], sep=\"\\n\")"
      ],
      "execution_count": null,
      "outputs": [
        {
          "output_type": "stream",
          "name": "stdout",
          "text": [
            "('WELL CANADA LTD.\\n', {'entities': []})\n",
            "('Corporate lnformation Summary\\n', {'entities': []})\n",
            "('as at November 25,2013\\n', {'entities': []})\n",
            "('Law Firm:\\n', {'entities': []})\n",
            "('Siskinds LLP\\n', {'entities': []})\n",
            "('Tel\\n', {'entities': []})\n",
            "(\"5',t9 672-212'.1\\n\", {'entities': []})\n",
            "('Fax\\n', {'entities': []})\n",
            "('519 672-9296\\n', {'entities': []})\n",
            "('Personnel:\\n', {'entities': []})\n",
            "('Graeme Sperryn\\n', {'entities': []})\n",
            "('Jennifer A. Bolton\\n', {'entities': []})\n",
            "('solicitor\\n', {'entities': []})\n",
            "('clerk\\n', {'entities': []})\n",
            "('LAW FIRM INFORMATION\\n', {'entities': []})\n",
            "('File No.:\\n', {'entities': []})\n",
            "('840423\\n', {'entities': []})\n",
            "('Record No.:\\n', {'entities': []})\n",
            "('840423\\n', {'entities': []})\n",
            "('Accountinq No.:\\n', {'entities': []})\n",
            "('840423\\n', {'entities': []})\n",
            "('File Opening Date:\\n', {'entities': []})\n",
            "('November 6, 2013\\n', {'entities': []})\n",
            "('French Name:\\n', {'entities': []})\n",
            "('Date of lncorporation:\\n', {'entities': []})\n",
            "('November 4,2013\\n', {'entities': []})\n",
            "('Leqal Structure:\\n', {'entities': []})\n",
            "('Private Corporation\\n', {'entities': [(8, 19, 'CURENT')]})\n",
            "('Jurisdiction:\\n', {'entities': []})\n",
            "('Ontario\\n', {'entities': []})\n",
            "('Ontario Corporation No.:\\n', {'entities': [(8, 19, 'CURENT')]})\n",
            "('2394556\\n', {'entities': []})\n",
            "('Nature of Business:\\n', {'entities': []})\n",
            "('Contract Siqnins Authoritv:\\n', {'entities': []})\n",
            "('Unanimous Shareholder Aqreement:\\n', {'entities': []})\n",
            "('N/y\\n', {'entities': []})\n",
            "('Any Other Shareholder Aqreement:\\n', {'entities': []})\n",
            "('N/v\\n', {'entities': []})\n",
            "('Trade name\\n', {'entities': []})\n",
            "('GENERAL INFORMATION\\n', {'entities': []})\n",
            "('ls\\n', {'entities': []})\n",
            "('active?\\n', {'entities': []})\n",
            "('Y/n\\n', {'entities': []})\n",
            "('Keep annua! resolutions current?\\n', {'entities': []})\n",
            "('Y/n\\n', {'entities': []})\n",
            "('Last an nual meeting/resolutions\\n', {'entities': []})\n",
            "('Are signatures outstanding?\\n', {'entities': []})\n",
            "('N/v\\n', {'entities': []})\n",
            "('Minute Book- held by law firm?\\n', {'entities': []})\n",
            "('Y/n\\n', {'entities': []})\n",
            "('Minute Book- box number:\\n', {'entities': []})\n",
            "('Minute Book\\n', {'entities': []})\n",
            "('I\\n', {'entities': []})\n",
            "('Y/n\\n', {'entities': []})\n",
            "('STATUS AND RECORDS\\n', {'entities': []})\n",
            "('\\x0cCorporate Seal\\n', {'entities': []})\n",
            "('Y/n\\n', {'entities': []})\n",
            "('Share Certificates\\n', {'entities': []})\n",
            "('Y/n\\n', {'entities': []})\n",
            "('Contact:\\n', {'entities': []})\n",
            "(\"Telephone (Reg'd Office):\\n\", {'entities': []})\n",
            "(\"Fax (Req'd Office):\\n\", {'entities': []})\n",
            "('E-mailAddress:\\n', {'entities': []})\n",
            "('Website:\\n', {'entities': []})\n",
            "('Registered Office Address:\\n', {'entities': []})\n",
            "('Mailing Address:\\n', {'entities': []})\n",
            "('Principal Place of Business:\\n', {'entities': []})\n",
            "('ADDRESSES AND CONTACT INFORMATION\\n', {'entities': []})\n",
            "('Bank:\\n', {'entities': []})\n",
            "('BANK INFORMATION\\n', {'entities': []})\n",
            "('a\\n', {'entities': []})\n",
            "('\\x0cAddress:\\n', {'entities': []})\n",
            "('Contact:\\n', {'entities': []})\n",
            "('Phone:\\n', {'entities': []})\n",
            "('Fax:\\n', {'entities': []})\n",
            "('Cheque Signing:\\n', {'entities': []})\n",
            "('Fiscal Year End:\\n', {'entities': []})\n",
            "('Last Annual Return Filed:\\n', {'entities': []})\n",
            "('Yes\\n', {'entities': []})\n",
            "('Audit Exempt?\\n', {'entities': []})\n",
            "('Ford Keast LLP\\n', {'entities': []})\n",
            "('Name of Accountants:\\n', {'entities': []})\n",
            "('Address:\\n', {'entities': []})\n",
            "('London\\n', {'entities': []})\n",
            "('Ontario\\n', {'entities': []})\n",
            "('CANADA\\n', {'entities': []})\n",
            "('N6B 229\\n', {'entities': []})\n",
            "('624 Maitland St.\\n', {'entities': []})\n",
            "('Contact:\\n', {'entities': []})\n",
            "('David Raines\\n', {'entities': []})\n",
            "('679-9330\\n', {'entities': []})\n",
            "('Phone\\n', {'entities': []})\n",
            "('679-3204\\n', {'entities': []})\n",
            "('Fax\\n', {'entities': []})\n",
            "('Fixed or Range:\\n', {'entities': []})\n",
            "('a range with a minimum of one (1) and a maximum of\\n', {'entities': []})\n",
            "('ten (10)\\n', {'entities': []})\n",
            "('No. Comprising Board:\\n', {'entities': []})\n",
            "('4\\n', {'entities': []})\n",
            "('Quorum:\\n', {'entities': []})\n"
          ]
        }
      ]
    },
    {
      "cell_type": "markdown",
      "metadata": {
        "id": "7pJcV3vXspKO"
      },
      "source": [
        "We were able to extract the input variable from the sample minutebook as well "
      ]
    },
    {
      "cell_type": "markdown",
      "metadata": {
        "id": "3AXcg4xmU5uJ"
      },
      "source": [
        "## 11 . spaCy NER model pipleline \n",
        "\n",
        "Create a blank model. We do not want to use the default entities that come with the pretrained model. \n",
        "We run through 20 iterations. The losses eventually go down. It is possible to break through the iterations when the desired loss is achieved but it was not attempted here and will be implemented in future experiments.\n",
        "The model achieved close to zero loss at the 20th iteration. \n",
        "Training started 9 am and was set for 50 iterations.\n"
      ]
    },
    {
      "cell_type": "code",
      "metadata": {
        "id": "W5zfpvXsseua"
      },
      "source": [
        "# Create a blank \"en\" model\n",
        "nlp = spacy.blank(\"en\")\n",
        "# Create a new entity recognizer and add it to the pipeline\n",
        "ner = nlp.create_pipe(\"ner\")\n",
        "nlp.add_pipe(ner)\n",
        "# Add the label to the entity recognizer\n",
        "ner.add_label(\"CURENT\")"
      ],
      "execution_count": null,
      "outputs": []
    },
    {
      "cell_type": "markdown",
      "metadata": {
        "id": "E5oBD26IFqma"
      },
      "source": [
        "50 iterations"
      ]
    },
    {
      "cell_type": "code",
      "metadata": {
        "id": "u1aoVi2Q45g9"
      },
      "source": [
        "nd "
      ],
      "execution_count": null,
      "outputs": []
    },
    {
      "cell_type": "code",
      "metadata": {
        "colab": {
          "base_uri": "https://localhost:8080/"
        },
        "id": "zPUoMZZQsoDa",
        "outputId": "ba5882f7-f016-4fa2-8e6a-172d0e418d12"
      },
      "source": [
        "# Start the training\n",
        "nlp.begin_training()\n",
        "\n",
        "# Loop for 10 iterations\n",
        "for itn in range(50):\n",
        "    # Shuffle the training data\n",
        "    random.shuffle(TRAINING_DATA_PATTERN)\n",
        "    losses = {}\n",
        "\n",
        "    # Batch the examples and iterate over them\n",
        "    for batch in spacy.util.minibatch(TRAINING_DATA_PATTERN, size=2):\n",
        "        texts = [text for text, entities in batch]\n",
        "        annotations = [entities for text, entities in batch]\n",
        "\n",
        "        # Update the model\n",
        "        nlp.update(texts, annotations, losses=losses)\n",
        "    print(losses)"
      ],
      "execution_count": null,
      "outputs": [
        {
          "output_type": "stream",
          "name": "stdout",
          "text": [
            "{'ner': 66.75063953495035}\n",
            "{'ner': 22.550002429598514}\n",
            "{'ner': 10.167135305284837}\n",
            "{'ner': 5.658019128244643e-09}\n",
            "{'ner': 43.08234587201274}\n",
            "{'ner': 19.546118064170404}\n",
            "{'ner': 15.144491456645849}\n",
            "{'ner': 13.787539857683162}\n",
            "{'ner': 2.100378833354523e-06}\n",
            "{'ner': 1.908439447631285e-08}\n",
            "{'ner': 59.9769422949533}\n",
            "{'ner': 2.000822748550252}\n",
            "{'ner': 6.036499782811672e-08}\n",
            "{'ner': 24.54590608492479}\n",
            "{'ner': 15.338911237331075}\n",
            "{'ner': 8.904168772557725}\n",
            "{'ner': 6.600094507757604}\n",
            "{'ner': 5.602735674546458}\n",
            "{'ner': 4.679160871918611}\n",
            "{'ner': 6.160068449047156e-07}\n",
            "{'ner': 0.00029341139892699277}\n",
            "{'ner': 19.974263036027253}\n",
            "{'ner': 11.487381045978928}\n",
            "{'ner': 2.5594191848542693e-08}\n",
            "{'ner': 1.0228337195247094e-08}\n",
            "{'ner': 16.683727441133957}\n",
            "{'ner': 16.103512072790103}\n",
            "{'ner': 35.03336225409429}\n",
            "{'ner': 2.284111855533756}\n",
            "{'ner': 9.755586620235347}\n",
            "{'ner': 2.007497943737767}\n",
            "{'ner': 8.155443399186323}\n",
            "{'ner': 7.895837454979796}\n",
            "{'ner': 5.2297723917955246}\n",
            "{'ner': 2.1120481601349503}\n",
            "{'ner': 3.8034255734619964}\n",
            "{'ner': 3.020501858418855}\n",
            "{'ner': 0.006180435447159104}\n",
            "{'ner': 3.334330025237852}\n",
            "{'ner': 9.976283543643804e-08}\n",
            "{'ner': 6.95278236368994}\n",
            "{'ner': 0.03608203043318477}\n",
            "{'ner': 4.78097975901753e-08}\n",
            "{'ner': 2.8843057266599634e-07}\n",
            "{'ner': 10.99824630561715}\n",
            "{'ner': 1.4084527693593433e-07}\n",
            "{'ner': 1.5628719577838442e-09}\n",
            "{'ner': 8.443683646184535e-09}\n",
            "{'ner': 32.925308849718604}\n",
            "{'ner': 5.955600395061323}\n"
          ]
        }
      ]
    },
    {
      "cell_type": "code",
      "metadata": {
        "id": "CV_jQNxo84cQ"
      },
      "source": [
        "# Save our trained Model\n",
        "#modelfile = input(\"Enter your Model Name: \")\n",
        "nlp.to_disk('spacy_50')\n"
      ],
      "execution_count": null,
      "outputs": []
    },
    {
      "cell_type": "code",
      "metadata": {
        "id": "b5ooBEAiLuAT"
      },
      "source": [
        "nlp = spacy.load('spacy_50')"
      ],
      "execution_count": null,
      "outputs": []
    },
    {
      "cell_type": "code",
      "metadata": {
        "colab": {
          "base_uri": "https://localhost:8080/"
        },
        "id": "zy_StpJl9Xgg",
        "outputId": "ba98282f-32ed-4067-fd2a-04b619e21da9"
      },
      "source": [
        "#Test your text\n",
        "test_text = \"Corporation number 1 . The owner of the Corporation is  Pearson Specter \"\n",
        "\n",
        "doc = nlp(test_text)\n",
        "for ent in doc.ents:\n",
        "    print(ent.text, ent.start_char, ent.end_char, ent.label_)"
      ],
      "execution_count": null,
      "outputs": [
        {
          "output_type": "stream",
          "name": "stdout",
          "text": [
            "Corporation 0 11 CURENT\n",
            "Corporation 40 51 CURENT\n"
          ]
        }
      ]
    },
    {
      "cell_type": "markdown",
      "metadata": {
        "id": "vEZ1FyEPmpyo"
      },
      "source": [
        "## 10 . Testing the ner model on unseen data  \n",
        "\n",
        "The word \"Corporation\" was extracted by the model.\n"
      ]
    },
    {
      "cell_type": "markdown",
      "metadata": {
        "id": "hAXZJVkXIimj"
      },
      "source": [
        "\n",
        "##11. Evaluating the model "
      ]
    },
    {
      "cell_type": "markdown",
      "metadata": {
        "id": "hEX8gm5AMJzG"
      },
      "source": [
        "\n",
        "##11. Conclusion\n",
        "spaCy can be used to annotate text data\n",
        "\n",
        "However, text data generated from minute books is noisy and unclean. By cleaning text, we might lose important information. Also, the time to train is slow, as it utilizes CPU on colab. Use of OCR for text extraction, json for annotation, open source domain specific datasets ( text and PDF ) could help. "
      ]
    },
    {
      "cell_type": "code",
      "metadata": {
        "id": "V7hb78wu6i6t"
      },
      "source": [
        "from spacy.gold import GoldParse\n",
        "from spacy.scorer import Scorer\n",
        "\n",
        "def evaluate(ner_model, examples):\n",
        "    scorer = Scorer()\n",
        "    for input_, annot in examples:\n",
        "        doc_gold_text = ner_model.make_doc(input_)\n",
        "        gold = GoldParse(doc_gold_text, entities=annot)\n",
        "        pred_value = ner_model(input_)\n",
        "        scorer.score(pred_value, gold)\n",
        "    return scorer.scores\n",
        "\n",
        "# example run\n",
        "\n",
        "examples = [\n",
        "    ('Who is Pearson Specter?',\n",
        "     [(8, 15, 'CURENT')]),\n",
        "    ('I like Pearson Specter.',\n",
        "     [(8, 14, 'CURENT')])\n",
        "]\n",
        "\n",
        "ner_model = spacy.load('spacy_50') # for spaCy's pretrained use 'en_core_web_sm'\n",
        "results = evaluate(ner_model, examples)"
      ],
      "execution_count": null,
      "outputs": []
    },
    {
      "cell_type": "code",
      "metadata": {
        "colab": {
          "base_uri": "https://localhost:8080/"
        },
        "id": "rPSvXkj0JM4a",
        "outputId": "ab2a00b2-368b-4d51-dc6c-45ad7250e19a"
      },
      "source": [
        "results"
      ],
      "execution_count": null,
      "outputs": [
        {
          "output_type": "execute_result",
          "data": {
            "text/plain": [
              "{'ents_f': 0.0,\n",
              " 'ents_p': 0.0,\n",
              " 'ents_per_type': {},\n",
              " 'ents_r': 0.0,\n",
              " 'las': 0.0,\n",
              " 'las_per_type': {'': {'f': 0.0, 'p': 0.0, 'r': 0.0}},\n",
              " 'tags_acc': 0.0,\n",
              " 'textcat_score': 0.0,\n",
              " 'textcats_per_cat': {},\n",
              " 'token_acc': 100.0,\n",
              " 'uas': 0.0}"
            ]
          },
          "metadata": {},
          "execution_count": 45
        }
      ]
    },
    {
      "cell_type": "code",
      "metadata": {
        "colab": {
          "base_uri": "https://localhost:8080/"
        },
        "id": "YMdwwClvVpPU",
        "outputId": "dfdc8565-5b3f-480c-af1a-b6d9ca07927c"
      },
      "source": [
        "  \n",
        "print (\"Dict key-value are : \")\n",
        "for i in results:\n",
        "    if (i == \"ents_p\"):\n",
        "      print(\"Precision Score\", results[i])\n",
        "    if (i == \"ents_r\"):\n",
        "      print(\"Recall Score\", results[i])\n",
        "    if (i == \"ents_f\"):\n",
        "      print(\"F1 Score\", results[i])\n",
        "      \n",
        "    "
      ],
      "execution_count": null,
      "outputs": [
        {
          "output_type": "stream",
          "name": "stdout",
          "text": [
            "Dict key-value are : \n",
            "Precision Score 0.0\n",
            "Recall Score 0.0\n",
            "F1 Score 0.0\n"
          ]
        }
      ]
    },
    {
      "cell_type": "code",
      "metadata": {
        "colab": {
          "base_uri": "https://localhost:8080/"
        },
        "id": "33rNZ67Da26v",
        "outputId": "0e889f28-828c-4298-8e69-9314fec13f09"
      },
      "source": [
        "  \n",
        "print (\"Dict key-value are : \")\n",
        "for i in results:\n",
        "    if (i == \"ents_p\"):\n",
        "      print(\"Precision Score\", results[i])\n",
        "    if (i == \"ents_r\"):\n",
        "      print(\"Recall Score\", results[i])\n",
        "    if (i == \"ents_f\"):\n",
        "      print(\"F1 Score\", results[i])\n",
        "      "
      ],
      "execution_count": null,
      "outputs": [
        {
          "output_type": "stream",
          "text": [
            "Dict key-value are : \n",
            "Precision Score 0.0\n",
            "Recall Score 0.0\n",
            "F1 Score 0.0\n"
          ],
          "name": "stdout"
        }
      ]
    },
    {
      "cell_type": "markdown",
      "metadata": {
        "id": "ZG5F-mGHe_ml"
      },
      "source": [
        "Precision quantifies the number of positive class predictions that actually belong to the positive class.\n",
        "\n",
        "Recall quantifies the number of positive class predictions made out of all positive examples in the dataset.\n",
        "\n",
        "F-Measure provides a single score that balances both the concerns of precision and recall in one number.\n"
      ]
    }
  ]
}